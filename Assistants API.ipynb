{
 "cells": [
  {
   "cell_type": "markdown",
   "id": "d37e43ad-8b93-4468-b987-44b519f3a69c",
   "metadata": {},
   "source": [
    "# Assistants API"
   ]
  },
  {
   "cell_type": "code",
   "execution_count": 2,
   "id": "c921bfc2-51ec-4710-a3e3-4018e898969e",
   "metadata": {},
   "outputs": [],
   "source": [
    "import os\n",
    "import getpass\n",
    "import openai"
   ]
  },
  {
   "cell_type": "code",
   "execution_count": 3,
   "id": "c6c1b481-ca4f-4883-8ba8-2a98734a654b",
   "metadata": {},
   "outputs": [
    {
     "name": "stdin",
     "output_type": "stream",
     "text": [
      "Enter your OpenAI API key:  ········\n"
     ]
    }
   ],
   "source": [
    "os.environ[\"OPENAI_API_KEY\"] = getpass.getpass(\"Enter your OpenAI API key: \")"
   ]
  },
  {
   "cell_type": "code",
   "execution_count": 4,
   "id": "2282073e-417e-4e62-aca7-3c1a824d22d9",
   "metadata": {},
   "outputs": [],
   "source": [
    "from openai import OpenAI\n",
    "client = OpenAI()"
   ]
  },
  {
   "cell_type": "code",
   "execution_count": 22,
   "id": "378440cb-d117-4a6a-84fe-643dc17f2834",
   "metadata": {},
   "outputs": [],
   "source": [
    "thread = client.beta.threads.create()\n",
    "\n",
    "message = client.beta.threads.messages.create(\n",
    "  thread_id=thread.id,\n",
    "  role=\"user\",\n",
    "  content=\"You have $10,000 to invest.  You want to double your money in 20 years.  What average return will you need to get?\"\n",
    ")"
   ]
  },
  {
   "cell_type": "code",
   "execution_count": 23,
   "id": "ed1ded75-dd3f-4330-8f2a-232b3b28a157",
   "metadata": {},
   "outputs": [],
   "source": [
    "run = client.beta.threads.runs.create(\n",
    "  thread_id=thread.id,\n",
    "  assistant_id=assistant.id,\n",
    "  instructions=\"Provide detailed analysis.\"\n",
    ")"
   ]
  },
  {
   "cell_type": "code",
   "execution_count": 24,
   "id": "ec85c820-cf4f-4dbc-95ec-49c92d3b798b",
   "metadata": {},
   "outputs": [
    {
     "name": "stdout",
     "output_type": "stream",
     "text": [
      "in_progress\n",
      "completed\n"
     ]
    }
   ],
   "source": [
    "import time\n",
    "\n",
    "while run.status != \"completed\":\n",
    "    run = client.beta.threads.runs.retrieve(\n",
    "        thread_id=thread.id,\n",
    "        run_id=run.id\n",
    "    )\n",
    "    print(run.status)\n",
    "    time.sleep(5)"
   ]
  },
  {
   "cell_type": "code",
   "execution_count": 25,
   "id": "44c9c813-5faa-47c8-9822-66eec147a3a0",
   "metadata": {},
   "outputs": [],
   "source": [
    "messages = client.beta.threads.messages.list(\n",
    "  thread_id=thread.id\n",
    ")"
   ]
  },
  {
   "cell_type": "code",
   "execution_count": 26,
   "id": "8a25e463-b5c1-437b-ad3f-b95b9572ba6b",
   "metadata": {},
   "outputs": [],
   "source": [
    "def extract_rate_of_return(response):\n",
    "    import re\n",
    "    match = re.search(r'(\\d+(\\.\\d+)?%)', response)\n",
    "    if match:\n",
    "        return match.group(1)\n",
    "    return None"
   ]
  },
  {
   "cell_type": "code",
   "execution_count": 27,
   "id": "371a274a-637f-4f0a-aa41-0a0ba47a2aaf",
   "metadata": {},
   "outputs": [
    {
     "name": "stdout",
     "output_type": "stream",
     "text": [
      "The average rate of return will need to be at least 3.53%.\n"
     ]
    }
   ],
   "source": [
    "for thread_message in messages.data[::-1]:\n",
    "    if thread_message.role == \"assistant\":\n",
    "        rate_of_return = extract_rate_of_return(thread_message.content[0].text.value)\n",
    "        if rate_of_return:\n",
    "            print(f\"The average rate of return will need to be at least {rate_of_return}.\")\n",
    "        else:\n",
    "            print(\"Could not extract the rate of return from the response.\")\n",
    "        break"
   ]
  },
  {
   "cell_type": "code",
   "execution_count": 28,
   "id": "c1c2345e-ef58-4e5e-bff7-56c672bcde9d",
   "metadata": {},
   "outputs": [
    {
     "name": "stdout",
     "output_type": "stream",
     "text": [
      "[Assistant(id='asst_3Fq9LD9FZwggQftPwQuV2Wx3', created_at=1722870367, description=None, instructions='You are an expert in calculating investments.', metadata={}, model='gpt-4o-mini', name='Investing Bot', object='assistant', tools=[CodeInterpreterTool(type='code_interpreter')], response_format='auto', temperature=1.0, tool_resources=ToolResources(code_interpreter=ToolResourcesCodeInterpreter(file_ids=[]), file_search=None), top_p=1.0), Assistant(id='asst_6KoLzZKud2xTC3rsLTCsHq2j', created_at=1722704492, description=None, instructions='', metadata={}, model='gpt-4o', name='', object='assistant', tools=[], response_format='auto', temperature=1.0, tool_resources=ToolResources(code_interpreter=None, file_search=None), top_p=1.0), Assistant(id='asst_ccIo2XwRLeh8NSwS1PyPOThc', created_at=1722517565, description=None, instructions='You are an expert in calculating investments.', metadata={}, model='gpt-4o-mini', name='Investing Bot', object='assistant', tools=[CodeInterpreterTool(type='code_interpreter')], response_format='auto', temperature=0.91, tool_resources=ToolResources(code_interpreter=ToolResourcesCodeInterpreter(file_ids=[]), file_search=None), top_p=1.0), Assistant(id='asst_RjjoWT7NwbvpHLdJ9Z6R3kZn', created_at=1722517203, description=None, instructions='You are an expert in calculating investments.', metadata={}, model='gpt-4o-mini', name='Investing Bot', object='assistant', tools=[CodeInterpreterTool(type='code_interpreter')], response_format='auto', temperature=1.0, tool_resources=ToolResources(code_interpreter=ToolResourcesCodeInterpreter(file_ids=[]), file_search=None), top_p=1.0), Assistant(id='asst_Lu8UVKNJ9VLeO0oJblKOMTjy', created_at=1722516909, description=None, instructions='You are an expert in calculating investments.', metadata={}, model='gpt-4o-mini', name='Math Tutor', object='assistant', tools=[CodeInterpreterTool(type='code_interpreter')], response_format='auto', temperature=1.0, tool_resources=ToolResources(code_interpreter=ToolResourcesCodeInterpreter(file_ids=[]), file_search=None), top_p=1.0), Assistant(id='asst_zsLs4OKYsOhiVpVW57j1DA61', created_at=1722447291, description=None, instructions='You are an expert in calculating investments.', metadata={}, model='gpt-4o', name='Investment Bot', object='assistant', tools=[CodeInterpreterTool(type='code_interpreter'), FileSearchTool(type='file_search', file_search=None)], response_format='auto', temperature=1.0, tool_resources=ToolResources(code_interpreter=ToolResourcesCodeInterpreter(file_ids=[]), file_search=ToolResourcesFileSearch(vector_store_ids=['vs_jo1B28WlY3MTN11egJdoU1Gi'])), top_p=1.0)]\n"
     ]
    }
   ],
   "source": [
    "my_assistants = client.beta.assistants.list(\n",
    "    order=\"desc\",\n",
    "    limit=\"20\",\n",
    ")\n",
    "print(my_assistants.data)"
   ]
  },
  {
   "cell_type": "code",
   "execution_count": null,
   "id": "393ef457-1937-4818-a00b-786476fe4451",
   "metadata": {},
   "outputs": [],
   "source": []
  }
 ],
 "metadata": {
  "kernelspec": {
   "display_name": "Python 3 (ipykernel)",
   "language": "python",
   "name": "python3"
  },
  "language_info": {
   "codemirror_mode": {
    "name": "ipython",
    "version": 3
   },
   "file_extension": ".py",
   "mimetype": "text/x-python",
   "name": "python",
   "nbconvert_exporter": "python",
   "pygments_lexer": "ipython3",
   "version": "3.11.4"
  }
 },
 "nbformat": 4,
 "nbformat_minor": 5
}
