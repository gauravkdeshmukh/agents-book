{
 "cells": [
  {
   "cell_type": "markdown",
   "id": "503da3f8-b398-4724-9e9c-88a766b8485d",
   "metadata": {},
   "source": [
    "# LangChain"
   ]
  },
  {
   "cell_type": "code",
   "execution_count": null,
   "id": "c2efc329-33d3-4da5-8499-397c120c49cc",
   "metadata": {},
   "outputs": [],
   "source": [
    "# pip install openai\n",
    "# pip install langchain"
   ]
  },
  {
   "cell_type": "code",
   "execution_count": 1,
   "id": "5756095c-f20b-474c-a18f-0cf503739f1d",
   "metadata": {},
   "outputs": [],
   "source": [
    "import openai\n",
    "import os\n",
    "import getpass"
   ]
  },
  {
   "cell_type": "code",
   "execution_count": 2,
   "id": "4b651ca3-acc7-4d13-90f9-af46ae335616",
   "metadata": {},
   "outputs": [
    {
     "name": "stdin",
     "output_type": "stream",
     "text": [
      " ········\n"
     ]
    }
   ],
   "source": [
    "# Set up the OpenAI API key\n",
    "os.environ[\"OPENAI_API_KEY\"] = getpass.getpass()"
   ]
  },
  {
   "cell_type": "code",
   "execution_count": 42,
   "id": "0646adb9-73da-4e53-a64c-3c6e47b07094",
   "metadata": {},
   "outputs": [
    {
     "name": "stdout",
     "output_type": "stream",
     "text": [
      "LangChain is a versatile framework designed to facilitate the development of applications that leverage large language models (LLMs). It offers a comprehensive toolkit for various components such as prompt management, memory, and interaction with external data sources, making it particularly useful for complex language tasks. LangChain also supports agents capable of making decisions and taking actions, enhancing the functionality of LLMs in diverse applications like chatbots, content generation, and data analysis. The framework is modular and can be integrated with other technologies, providing a flexible and powerful solution for developers working with language models.\n"
     ]
    }
   ],
   "source": [
    "from langchain_openai import ChatOpenAI\n",
    "\n",
    "chat_model = ChatOpenAI(model=\"gpt-4o\")\n",
    "output = chat_model.invoke(\"What is LangChain?\")\n",
    "print(output.content)"
   ]
  },
  {
   "cell_type": "code",
   "execution_count": 43,
   "id": "3db690af-01c8-4f4b-89f8-582b40dff083",
   "metadata": {},
   "outputs": [],
   "source": [
    "from langchain_core.prompts import ChatPromptTemplate"
   ]
  },
  {
   "cell_type": "code",
   "execution_count": 44,
   "id": "51adb3f1-cd74-4863-89a1-47964a5b2957",
   "metadata": {},
   "outputs": [
    {
     "name": "stderr",
     "output_type": "stream",
     "text": [
      "C:\\Users\\ttaul\\AppData\\Local\\Programs\\Python\\Python312\\Lib\\site-packages\\langchain_core\\_api\\deprecation.py:141: LangChainDeprecationWarning: The method `BaseChatModel.__call__` was deprecated in langchain-core 0.1.7 and will be removed in 1.0. Use invoke instead.\n",
      "  warn_deprecated(\n"
     ]
    },
    {
     "name": "stdout",
     "output_type": "stream",
     "text": [
      "1. Transparency and security: Blockchain technology provides a secure and transparent way to record transactions, making it difficult for data to be altered or tampered with. This can help prevent fraud and increase trust among users.\n",
      "\n",
      "2. Decentralization: Blockchain technology operates on a decentralized network, meaning that there is no central authority controlling the data. This can lead to increased efficiency, reduced costs, and greater accessibility for users.\n",
      "\n",
      "3. Improved traceability and accountability: The immutable nature of blockchain technology allows for a clear and auditable record of transactions. This can be particularly useful in industries such as supply chain management, where tracking the origin and movement of goods is crucial.\n"
     ]
    }
   ],
   "source": [
    "# Create a new prompt template\n",
    "prompt = ChatPromptTemplate.from_template(\n",
    "    \"\"\"List 3 benefits of using this technology: {technology}\"\"\"\n",
    ")\n",
    "\n",
    "# Format the prompt with a specific technology\n",
    "formatted_prompt = prompt.format(technology=\"blockchain\")\n",
    "\n",
    "# Get the response from the LLM\n",
    "response = llm(formatted_prompt)\n",
    "\n",
    "# Print out the response\n",
    "print(response.content)\n"
   ]
  },
  {
   "cell_type": "code",
   "execution_count": 45,
   "id": "e7f7169a-68a1-440a-b3f4-adfe8b790b92",
   "metadata": {},
   "outputs": [],
   "source": [
    "from langchain_core.output_parsers import JsonOutputParser\n",
    "from langchain_core.prompts import PromptTemplate\n",
    "from langchain_core.pydantic_v1 import BaseModel, Field"
   ]
  },
  {
   "cell_type": "code",
   "execution_count": 46,
   "id": "97e5d75d-e8bc-487b-bbeb-eacf35d8ae24",
   "metadata": {},
   "outputs": [
    {
     "name": "stdout",
     "output_type": "stream",
     "text": [
      "{'product_name': 'XYZ Smartphone', 'rating': 4, 'review_text': 'I recently purchased the XYZ Smartphone and I am very impressed with its performance and features. The camera quality is excellent and the battery life is impressive. The design is sleek and modern, making it a stylish choice. However, I did notice that the fingerprint sensor can be a bit slow at times.', 'pros': 'Excellent camera quality, impressive battery life, sleek design', 'cons': 'Fingerprint sensor can be slow at times'}\n"
     ]
    }
   ],
   "source": [
    "# Initialize the ChatOpenAI model\n",
    "model = ChatOpenAI(temperature=0)\n",
    "\n",
    "# Define the desired data structure for the product review\n",
    "class ProductReview(BaseModel):\n",
    "    product_name: str = Field(description=\"The name of the product being reviewed\")\n",
    "    rating: int = Field(description=\"The rating given to the product, out of 5\")\n",
    "    review_text: str = Field(description=\"The text of the review\")\n",
    "    pros: str = Field(description=\"The positive aspects mentioned in the review\")\n",
    "    cons: str = Field(description=\"The negative aspects mentioned in the review\")\n",
    "\n",
    "# Set up the JSON output parser with the custom data structure\n",
    "parser = JsonOutputParser(pydantic_object=ProductReview)\n",
    "\n",
    "# Create a prompt template with instructions for the LLM\n",
    "prompt = PromptTemplate(\n",
    "    template=\"Provide a detailed product review based on the user's input.\\n{format_instructions}\\n{query}\\n\",\n",
    "    input_variables=[\"query\"],\n",
    "    partial_variables={\"format_instructions\": parser.get_format_instructions()},\n",
    ")\n",
    "\n",
    "# Define the query for the LLM to generate a product review\n",
    "review_query = \"Review the latest smartphone model XYZ.\"\n",
    "\n",
    "# Chain the prompt, model, and parser together\n",
    "chain = prompt | model | parser\n",
    "\n",
    "# Invoke the chain with the query to generate and parse the output\n",
    "parsed_review = chain.invoke({\"query\": review_query})\n",
    "\n",
    "# Print the parsed review in the structured JSON format\n",
    "print(parsed_review)\n",
    "\n"
   ]
  },
  {
   "cell_type": "code",
   "execution_count": 7,
   "id": "3a835876-5eaf-4614-9796-ba0b4d4a7f4e",
   "metadata": {},
   "outputs": [],
   "source": [
    "# pip install tabulate"
   ]
  },
  {
   "cell_type": "code",
   "execution_count": 16,
   "id": "bfd9bbd0-d32c-4d2d-8895-7c7d632de67f",
   "metadata": {},
   "outputs": [
    {
     "name": "stdout",
     "output_type": "stream",
     "text": [
      "+-----------------------+\n",
      "| Book Title            |\n",
      "+=======================+\n",
      "| The Hobbit            |\n",
      "+-----------------------+\n",
      "| 1984                  |\n",
      "+-----------------------+\n",
      "| To Kill a Mockingbird |\n",
      "+-----------------------+\n",
      "| The Great Gatsby      |\n",
      "+-----------------------+\n",
      "| Moby-Dick             |\n",
      "+-----------------------+\n"
     ]
    }
   ],
   "source": [
    "from langchain_community.document_loaders.csv_loader import CSVLoader\n",
    "from tabulate import tabulate\n",
    "\n",
    "# Load the CSV file, using the 'Book Title' column as the document source\n",
    "loader = CSVLoader(file_path='books_output.csv', source_column=\"Book Title\")\n",
    "\n",
    "data = loader.load()\n",
    "\n",
    "# Prepare data for tabulate\n",
    "table_data = []\n",
    "headers = [\"Book Title\"]\n",
    "\n",
    "for document in data:\n",
    "    # Use the 'Book Title' as the content to display\n",
    "    table_data.append([document.metadata['source']])\n",
    "\n",
    "# Print the loaded documents as a table\n",
    "print(tabulate(table_data, headers=headers, tablefmt=\"grid\"))\n",
    "\n"
   ]
  },
  {
   "cell_type": "code",
   "execution_count": 14,
   "id": "d84bfea3-42ca-4cc5-b740-3d3de8c8ef62",
   "metadata": {},
   "outputs": [],
   "source": [
    "# pip install lxml"
   ]
  },
  {
   "cell_type": "code",
   "execution_count": 18,
   "id": "c40ee4ae-6d85-4158-9625-34bcf8bab0b1",
   "metadata": {},
   "outputs": [
    {
     "name": "stdout",
     "output_type": "stream",
     "text": [
      "[Document(page_content='Introduction to Web Development'), Document(metadata={'Header 1': 'Introduction to Web Development'}, page_content='Welcome to the basics of web development. This section covers fundamental concepts.  \\nHTML Basics Tags and Elements Attributes'), Document(metadata={'Header 1': 'Introduction to Web Development', 'Header 2': 'HTML Basics'}, page_content='HTML stands for HyperText Markup Language and is the standard language for creating web pages.'), Document(metadata={'Header 1': 'Introduction to Web Development', 'Header 2': 'HTML Basics', 'Header 3': 'Tags and Elements'}, page_content='HTML documents are made up of elements defined by tags, such as <h1> for headers.'), Document(metadata={'Header 1': 'Introduction to Web Development', 'Header 2': 'HTML Basics', 'Header 3': 'Attributes'}, page_content='Attributes provide additional information about HTML elements, like class or id.'), Document(metadata={'Header 1': 'Introduction to Web Development'}, page_content='CSS Fundamentals'), Document(metadata={'Header 1': 'Introduction to Web Development', 'Header 2': 'CSS Fundamentals'}, page_content='CSS is used to style and layout web pages. It stands for Cascading Style Sheets.'), Document(metadata={'Header 1': 'Introduction to Web Development'}, page_content=\"By the end of this guide, you'll have a solid understanding of web development essentials.\")]\n"
     ]
    }
   ],
   "source": [
    "from langchain_text_splitters import HTMLHeaderTextSplitter\n",
    "\n",
    "# Read the HTML content from a file\n",
    "with open('sample_document.html', 'r', encoding='utf-8') as file:\n",
    "    html_string = file.read()\n",
    "\n",
    "# Define headers to split on\n",
    "headers_to_split_on = [\n",
    "    (\"h1\", \"Header 1\"),\n",
    "    (\"h2\", \"Header 2\"),\n",
    "    (\"h3\", \"Header 3\"),\n",
    "]\n",
    "\n",
    "# Initialize the HTMLHeaderTextSplitter with the headers\n",
    "html_splitter = HTMLHeaderTextSplitter(headers_to_split_on=headers_to_split_on)\n",
    "\n",
    "# Split the HTML content based on the defined headers\n",
    "html_header_splits = html_splitter.split_text(html_string)\n",
    "\n",
    "# Output the splits\n",
    "print(html_header_splits)"
   ]
  },
  {
   "cell_type": "code",
   "execution_count": 19,
   "id": "71d1c747-02f1-4d0d-b19c-a991cccda3b1",
   "metadata": {},
   "outputs": [],
   "source": [
    "from langchain_core.messages import SystemMessage\n",
    "from langchain_core.prompts import (\n",
    "    ChatPromptTemplate,\n",
    "    HumanMessagePromptTemplate,\n",
    "    MessagesPlaceholder,\n",
    ")\n",
    "from langchain_openai import ChatOpenAI\n",
    "from langchain.memory import ConversationBufferMemory\n",
    "from langchain.chains import LLMChain\n"
   ]
  },
  {
   "cell_type": "code",
   "execution_count": 20,
   "id": "f56902f4-ad71-4dea-ac23-d89edbc5f4cb",
   "metadata": {},
   "outputs": [],
   "source": [
    "prompt = ChatPromptTemplate.from_messages(\n",
    "    [\n",
    "        SystemMessage(\n",
    "            content=\"You are a career coach chatbot, helping users with their career goals.\"\n",
    "        ),  # The persistent system prompt\n",
    "        MessagesPlaceholder(\n",
    "            variable_name=\"chat_history\"\n",
    "        ),  # Where the memory will be stored\n",
    "        HumanMessagePromptTemplate.from_template(\n",
    "            \"{human_input}\"\n",
    "        ),  # Where the human input will be injected\n",
    "    ]\n",
    ")\n",
    "\n"
   ]
  },
  {
   "cell_type": "code",
   "execution_count": 21,
   "id": "74e2666b-cef8-4f37-b07d-f4e3eadc24c8",
   "metadata": {},
   "outputs": [],
   "source": [
    "memory = ConversationBufferMemory(memory_key=\"chat_history\", return_messages=True)\n",
    "\n",
    "llm = ChatOpenAI()\n"
   ]
  },
  {
   "cell_type": "code",
   "execution_count": 22,
   "id": "d66ec14b-2af6-4744-bdd9-07b01f1102b9",
   "metadata": {},
   "outputs": [
    {
     "name": "stderr",
     "output_type": "stream",
     "text": [
      "C:\\Users\\ttaul\\AppData\\Local\\Programs\\Python\\Python312\\Lib\\site-packages\\langchain_core\\_api\\deprecation.py:141: LangChainDeprecationWarning: The class `LLMChain` was deprecated in LangChain 0.1.17 and will be removed in 1.0. Use RunnableSequence, e.g., `prompt | llm` instead.\n",
      "  warn_deprecated(\n"
     ]
    }
   ],
   "source": [
    "chat_llm_chain = LLMChain(\n",
    "    llm=llm,\n",
    "    prompt=prompt,\n",
    "    verbose=True,\n",
    "    memory=memory,\n",
    ")\n"
   ]
  },
  {
   "cell_type": "code",
   "execution_count": 23,
   "id": "7ca8e860-ae4f-4c4e-84e1-9a372d357dac",
   "metadata": {},
   "outputs": [
    {
     "name": "stdout",
     "output_type": "stream",
     "text": [
      "\n",
      "\n",
      "\u001b[1m> Entering new LLMChain chain...\u001b[0m\n",
      "Prompt after formatting:\n",
      "\u001b[32;1m\u001b[1;3mSystem: You are a career coach chatbot, helping users with their career goals.\n",
      "Human: I'm thinking about switching careers to data science.\u001b[0m\n",
      "\n",
      "\u001b[1m> Finished chain.\u001b[0m\n",
      "That's great to hear! Data science is a rapidly growing field with a lot of opportunities. What is your current background and experience, and what specifically attracts you to data science?\n",
      "\n",
      "\n",
      "\u001b[1m> Entering new LLMChain chain...\u001b[0m\n",
      "Prompt after formatting:\n",
      "\u001b[32;1m\u001b[1;3mSystem: You are a career coach chatbot, helping users with their career goals.\n",
      "Human: I'm thinking about switching careers to data science.\n",
      "AI: That's great to hear! Data science is a rapidly growing field with a lot of opportunities. What is your current background and experience, and what specifically attracts you to data science?\n",
      "Human: What skills do I need to develop for a data science role?\u001b[0m\n",
      "\n",
      "\u001b[1m> Finished chain.\u001b[0m\n",
      "To succeed in a data science role, you will need a combination of technical skills, analytical skills, and domain knowledge. Here are some key skills you should focus on developing:\n",
      "\n",
      "1. Programming: Proficiency in programming languages such as Python, R, or SQL.\n",
      "2. Statistics and Mathematics: Understanding of statistical concepts and mathematical techniques used in data analysis.\n",
      "3. Data Wrangling: Ability to clean, preprocess, and manipulate data from various sources.\n",
      "4. Machine Learning: Knowledge of machine learning algorithms and techniques for predictive modeling and data analysis.\n",
      "5. Data Visualization: Ability to create visualizations to communicate insights from data effectively.\n",
      "6. Big Data Technologies: Familiarity with tools and technologies like Hadoop, Spark, or AWS for handling large datasets.\n",
      "7. Domain Knowledge: Understanding of the industry or domain you will be working in to interpret and apply data insights effectively.\n",
      "\n",
      "It's important to continuously learn and stay updated on the latest trends and technologies in data science. Consider taking online courses, participating in projects, and networking with professionals in the field to enhance your skills and knowledge.\n",
      "\n",
      "\n",
      "\u001b[1m> Entering new LLMChain chain...\u001b[0m\n",
      "Prompt after formatting:\n",
      "\u001b[32;1m\u001b[1;3mSystem: You are a career coach chatbot, helping users with their career goals.\n",
      "Human: I'm thinking about switching careers to data science.\n",
      "AI: That's great to hear! Data science is a rapidly growing field with a lot of opportunities. What is your current background and experience, and what specifically attracts you to data science?\n",
      "Human: What skills do I need to develop for a data science role?\n",
      "AI: To succeed in a data science role, you will need a combination of technical skills, analytical skills, and domain knowledge. Here are some key skills you should focus on developing:\n",
      "\n",
      "1. Programming: Proficiency in programming languages such as Python, R, or SQL.\n",
      "2. Statistics and Mathematics: Understanding of statistical concepts and mathematical techniques used in data analysis.\n",
      "3. Data Wrangling: Ability to clean, preprocess, and manipulate data from various sources.\n",
      "4. Machine Learning: Knowledge of machine learning algorithms and techniques for predictive modeling and data analysis.\n",
      "5. Data Visualization: Ability to create visualizations to communicate insights from data effectively.\n",
      "6. Big Data Technologies: Familiarity with tools and technologies like Hadoop, Spark, or AWS for handling large datasets.\n",
      "7. Domain Knowledge: Understanding of the industry or domain you will be working in to interpret and apply data insights effectively.\n",
      "\n",
      "It's important to continuously learn and stay updated on the latest trends and technologies in data science. Consider taking online courses, participating in projects, and networking with professionals in the field to enhance your skills and knowledge.\n",
      "Human: I have started learning Python. What should I focus on next?\u001b[0m\n",
      "\n",
      "\u001b[1m> Finished chain.\u001b[0m\n",
      "That's a great start! Learning Python is crucial for data science due to its versatility and popularity in the field. Here are some key areas you can focus on next to continue your journey towards a career in data science:\n",
      "\n",
      "1. Data Manipulation and Analysis Libraries: Familiarize yourself with popular Python libraries such as Pandas and NumPy for data manipulation and analysis.\n",
      "\n",
      "2. Data Visualization: Learn how to create meaningful visualizations using libraries like Matplotlib and Seaborn to effectively communicate insights from data.\n",
      "\n",
      "3. Machine Learning: Start exploring machine learning concepts and algorithms using libraries like Scikit-learn. Understand how to build and evaluate machine learning models.\n",
      "\n",
      "4. SQL: Gain proficiency in SQL to work with relational databases and query data effectively.\n",
      "\n",
      "5. Projects and Practice: Work on data science projects or participate in Kaggle competitions to apply your skills and build a portfolio.\n",
      "\n",
      "6. Online Courses and Resources: Take advantage of online courses, tutorials, and resources available on platforms like Coursera, Udemy, and DataCamp to deepen your understanding of data science concepts.\n",
      "\n",
      "Remember to practice consistently, work on projects to apply your skills, and seek feedback to improve. Building a strong foundation in Python and data science concepts will help you transition smoothly into a data science role.\n"
     ]
    }
   ],
   "source": [
    "response = chat_llm_chain.predict(human_input=\"I'm thinking about switching careers to data science.\")\n",
    "print(response)\n",
    "\n",
    "response = chat_llm_chain.predict(human_input=\"What skills do I need to develop for a data science role?\")\n",
    "print(response)\n",
    "\n",
    "response = chat_llm_chain.predict(human_input=\"I have started learning Python. What should I focus on next?\")\n",
    "\n",
    "print(response)\n"
   ]
  },
  {
   "cell_type": "code",
   "execution_count": 3,
   "id": "fde3eb80-a1cf-4b8a-9e5f-331a1ce88d44",
   "metadata": {},
   "outputs": [],
   "source": [
    "from langchain import PromptTemplate\n",
    "from langchain.tools import StructuredTool\n",
    "from langchain_openai import ChatOpenAI\n",
    "from langchain.agents import create_tool_calling_agent, AgentExecutor\n",
    "from langchain.tools import DuckDuckGoSearchResults\n",
    "from pydantic import BaseModel"
   ]
  },
  {
   "cell_type": "code",
   "execution_count": 4,
   "id": "b0384f40-218c-4f7c-8896-56b08b049a16",
   "metadata": {},
   "outputs": [],
   "source": [
    "\n",
    "# Define the Task Status Retriever Tool\n",
    "class TaskStatusRetriever:\n",
    "    def __init__(self, task_database):\n",
    "        self.task_database = task_database\n",
    "\n",
    "    def get_status(self, task_id: str) -> str:\n",
    "        return self.task_database.get(task_id, \"Task not found\")\n",
    "\n",
    "task_database = {\n",
    "    \"task1\": \"In Progress\",\n",
    "    \"task2\": \"Completed\",\n",
    "    \"task3\": \"Not Started\",\n",
    "}\n",
    "\n",
    "task_status_retriever = TaskStatusRetriever(task_database)\n",
    "\n",
    "def task_status_lookup(task_id: str) -> str:\n",
    "    return task_status_retriever.get_status(task_id)\n"
   ]
  },
  {
   "cell_type": "code",
   "execution_count": 5,
   "id": "9e9eaf94-e941-4cee-9da5-d1caf5102524",
   "metadata": {},
   "outputs": [],
   "source": [
    "\n",
    "# Define the input schema for TaskStatusLookup\n",
    "class TaskStatusInput(BaseModel):\n",
    "    task_id: str\n",
    "\n",
    "task_status_tool = StructuredTool.from_function(\n",
    "    name=\"TaskStatusLookup\",\n",
    "    description=\"Look up the status of a task by its ID.\",\n",
    "    func=task_status_lookup,\n",
    "    args_schema=TaskStatusInput\n",
    ")"
   ]
  },
  {
   "cell_type": "code",
   "execution_count": 6,
   "id": "6b2e6b7c-88ec-4835-8b15-4ca954dca62a",
   "metadata": {},
   "outputs": [],
   "source": [
    "# Define the Online Documentation Search Tool\n",
    "duckduckgo_search = DuckDuckGoSearchResults()\n",
    "\n",
    "def search_docs(query: str) -> str:\n",
    "    return duckduckgo_search.run(query)"
   ]
  },
  {
   "cell_type": "code",
   "execution_count": 7,
   "id": "a8216295-4168-45dc-b57e-cad8bb8e21f8",
   "metadata": {},
   "outputs": [],
   "source": [
    "\n",
    "\n",
    "# Define the input schema for DocsSearch\n",
    "class DocsSearchInput(BaseModel):\n",
    "    query: str\n",
    "\n",
    "docs_search_tool = StructuredTool.from_function(\n",
    "    name=\"DocsSearch\",\n",
    "    description=\"Search for relevant documentation online.\",\n",
    "    func=search_docs,\n",
    "    args_schema=DocsSearchInput\n",
    ")"
   ]
  },
  {
   "cell_type": "code",
   "execution_count": 8,
   "id": "fa1d3090-7d68-487c-a49d-d7f4074d25ef",
   "metadata": {},
   "outputs": [],
   "source": [
    "# Create the Tools List\n",
    "tools = [task_status_tool, docs_search_tool]"
   ]
  },
  {
   "cell_type": "code",
   "execution_count": 9,
   "id": "c8384f45-d6a1-4cc1-b111-7b8fb2eee1b8",
   "metadata": {},
   "outputs": [],
   "source": [
    "# Define the LLM and Prompt\n",
    "llm = ChatOpenAI(model=\"gpt-4o-mini\", temperature=0)\n",
    "\n",
    "prompt_template = \"\"\"\n",
    "You are a project assistant. You can look up the status of tasks in a project management system and search for relevant documentation online. \n",
    "Respond based on the user's input using the appropriate tools.\n",
    "\n",
    "User's input: {input}\n",
    "\n",
    "{agent_scratchpad}\n",
    "\"\"\"\n",
    "prompt = PromptTemplate.from_template(prompt_template)"
   ]
  },
  {
   "cell_type": "code",
   "execution_count": 10,
   "id": "9ebf1eb0-4ecc-4cf8-a087-6b1f65257c06",
   "metadata": {},
   "outputs": [
    {
     "name": "stdout",
     "output_type": "stream",
     "text": [
      "\n",
      "\n",
      "\u001b[1m> Entering new AgentExecutor chain...\u001b[0m\n",
      "\u001b[32;1m\u001b[1;3m\n",
      "Invoking: `TaskStatusLookup` with `{'task_id': 'task1'}`\n",
      "\n",
      "\n",
      "\u001b[0m\u001b[36;1m\u001b[1;3mIn Progress\u001b[0m\u001b[32;1m\u001b[1;3mThe status of task1 is \"In Progress\".\u001b[0m\n",
      "\n",
      "\u001b[1m> Finished chain.\u001b[0m\n",
      "The status of task1 is \"In Progress\".\n",
      "\n",
      "\n",
      "\u001b[1m> Entering new AgentExecutor chain...\u001b[0m\n",
      "\u001b[32;1m\u001b[1;3m\n",
      "Invoking: `DocsSearch` with `{'query': 'project management best practices'}`\n",
      "\n",
      "\n",
      "\u001b[0m\u001b[33;1m\u001b[1;3m[snippet: Learn about the top project management techniques, such as WBS, CPM, Waterfall, Scrum, Kanban, Gantt and PERT. Compare their advantages, disadvantages and applications for different types of projects., title: 7 Essential Project Management Techniques In 2024 - Forbes, link: https://www.forbes.com/advisor/business/project-management-techniques/], [snippet: Learn how to plan, organize, manage, and lead projects effectively with this guide. It covers topics such as business case, kickoff meeting, project blueprint, scope, quality, communication, feedback, risk, and more., title: 20 Best Practices in Project Management [2024 Guide], link: https://bootcamp.umass.edu/blog/project-management/best-practices-in-project-management], [snippet: 12 project management frameworks. Manage projects with one tool. 1. Agile. What it is: The Agile project management methodology is one of the most common project management processes. But the reality is that Agile isn't technically a methodology. Instead, it's best defined as a project management principle. The basis of an Agile approach is ..., title: Project Management Methodologies: 12 Best Frameworks [2024] • Asana, link: https://asana.com/resources/project-management-methodologies], [snippet: A project management methodology is a set of principles that project managers and team leaders use to plan, execute and manage a successful project. One of the most common is the Agile project ..., title: Project Management Methodologies All PMs Should Know - Forbes, link: https://www.forbes.com/advisor/business/project-management-methodologies/]\u001b[0m\u001b[32;1m\u001b[1;3m\n",
      "Invoking: `TaskStatusLookup` with `{'task_id': 'Find documentation on project management best practices'}`\n",
      "\n",
      "\n",
      "\u001b[0m\u001b[36;1m\u001b[1;3mTask not found\u001b[0m\u001b[32;1m\u001b[1;3m\n",
      "Invoking: `DocsSearch` with `{'query': 'project management best practices'}`\n",
      "\n",
      "\n",
      "\u001b[0m\u001b[33;1m\u001b[1;3m[snippet: Learn about the top project management techniques, such as WBS, CPM, Waterfall, Scrum, Kanban, Gantt Chart and PERT. Compare their advantages, disadvantages and applications for different types of projects., title: 7 Essential Project Management Techniques In 2024 - Forbes, link: https://www.forbes.com/advisor/business/project-management-techniques/], [snippet: Learn how to plan, organize, manage, and lead projects effectively with this guide. It covers topics such as business case, kickoff meeting, project blueprint, scope, quality, communication, feedback, risk, and more., title: 20 Best Practices in Project Management [2024 Guide], link: https://bootcamp.umass.edu/blog/project-management/best-practices-in-project-management], [snippet: 12 project management frameworks. Manage projects with one tool. 1. Agile. What it is: The Agile project management methodology is one of the most common project management processes. But the reality is that Agile isn't technically a methodology. Instead, it's best defined as a project management principle. The basis of an Agile approach is ..., title: Project Management Methodologies: 12 Best Frameworks [2024] • Asana, link: https://asana.com/resources/project-management-methodologies], [snippet: A project management methodology is a set of principles that project managers and team leaders use to plan, execute and manage a successful project. One of the most common is the Agile project ..., title: Project Management Methodologies All PMs Should Know - Forbes, link: https://www.forbes.com/advisor/business/project-management-methodologies/]\u001b[0m\u001b[32;1m\u001b[1;3mI have found some documentation on project management best practices for you:\n",
      "\n",
      "1. [7 Essential Project Management Techniques In 2024 - Forbes](https://www.forbes.com/advisor/business/project-management-techniques/)\n",
      "   - Learn about the top project management techniques such as WBS, CPM, Waterfall, Scrum, Kanban, Gantt, and PERT. Compare their advantages, disadvantages, and applications for different types of projects.\n",
      "\n",
      "2. [20 Best Practices in Project Management [2024 Guide]](https://bootcamp.umass.edu/blog/project-management/best-practices-in-project-management)\n",
      "   - This guide covers topics like business case, kickoff meeting, project blueprint, scope, quality, communication, feedback, and risk management.\n",
      "\n",
      "3. [Project Management Methodologies: 12 Best Frameworks [2024] • Asana](https://asana.com/resources/project-management-methodologies)\n",
      "   - Explore 12 project management frameworks including Agile and understand how they can help manage projects effectively.\n",
      "\n",
      "4. [Project Management Methodologies All PMs Should Know - Forbes](https://www.forbes.com/advisor/business/project-management-methodologies/)\n",
      "   - Learn about project management methodologies that project managers and team leaders use to plan, execute, and manage successful projects.\n",
      "\n",
      "These resources should provide you with valuable insights into project management best practices.\u001b[0m\n",
      "\n",
      "\u001b[1m> Finished chain.\u001b[0m\n",
      "I have found some documentation on project management best practices for you:\n",
      "\n",
      "1. [7 Essential Project Management Techniques In 2024 - Forbes](https://www.forbes.com/advisor/business/project-management-techniques/)\n",
      "   - Learn about the top project management techniques such as WBS, CPM, Waterfall, Scrum, Kanban, Gantt, and PERT. Compare their advantages, disadvantages, and applications for different types of projects.\n",
      "\n",
      "2. [20 Best Practices in Project Management [2024 Guide]](https://bootcamp.umass.edu/blog/project-management/best-practices-in-project-management)\n",
      "   - This guide covers topics like business case, kickoff meeting, project blueprint, scope, quality, communication, feedback, and risk management.\n",
      "\n",
      "3. [Project Management Methodologies: 12 Best Frameworks [2024] • Asana](https://asana.com/resources/project-management-methodologies)\n",
      "   - Explore 12 project management frameworks including Agile and understand how they can help manage projects effectively.\n",
      "\n",
      "4. [Project Management Methodologies All PMs Should Know - Forbes](https://www.forbes.com/advisor/business/project-management-methodologies/)\n",
      "   - Learn about project management methodologies that project managers and team leaders use to plan, execute, and manage successful projects.\n",
      "\n",
      "These resources should provide you with valuable insights into project management best practices.\n"
     ]
    }
   ],
   "source": [
    "# Create the Agent\n",
    "agent = create_tool_calling_agent(llm, tools, prompt)\n",
    "\n",
    "# Create the Agent Executor\n",
    "agent_executor = AgentExecutor(agent=agent, tools=tools, verbose=True)\n",
    "\n",
    "# Test the Agent with Example Inputs\n",
    "response = agent_executor.invoke({\"input\": \"What's the status of task1?\"})\n",
    "print(response['output'])\n",
    "\n",
    "response = agent_executor.invoke({\"input\": \"Find documentation on project management best practices\"})\n",
    "print(response['output'])\n",
    "\n"
   ]
  },
  {
   "cell_type": "code",
   "execution_count": null,
   "id": "2bcff4cc-586e-4514-a31a-018987e9fcff",
   "metadata": {},
   "outputs": [],
   "source": []
  }
 ],
 "metadata": {
  "kernelspec": {
   "display_name": "Python 3 (ipykernel)",
   "language": "python",
   "name": "python3"
  },
  "language_info": {
   "codemirror_mode": {
    "name": "ipython",
    "version": 3
   },
   "file_extension": ".py",
   "mimetype": "text/x-python",
   "name": "python",
   "nbconvert_exporter": "python",
   "pygments_lexer": "ipython3",
   "version": "3.12.4"
  }
 },
 "nbformat": 4,
 "nbformat_minor": 5
}
