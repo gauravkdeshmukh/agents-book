{
 "cells": [
  {
   "cell_type": "markdown",
   "id": "e953d8d4-7a7b-418c-b24c-27ce4668ab86",
   "metadata": {},
   "source": [
    "# LangGraph"
   ]
  },
  {
   "cell_type": "code",
   "execution_count": null,
   "id": "7b4dbff3-511c-4abb-8847-fcf1ed147332",
   "metadata": {},
   "outputs": [],
   "source": [
    "# pip install --upgrade -q openai langchain langchain-openai langchain-community langgraph"
   ]
  },
  {
   "cell_type": "code",
   "execution_count": 1,
   "id": "3b13eba5-3bdc-4c33-8b45-f18b4a2f0fe1",
   "metadata": {},
   "outputs": [],
   "source": [
    "import openai\n",
    "import os\n",
    "import getpass"
   ]
  },
  {
   "cell_type": "code",
   "execution_count": 2,
   "id": "1e1c5d7d-c389-4ab8-8ee7-2b2e193499e2",
   "metadata": {},
   "outputs": [
    {
     "name": "stdin",
     "output_type": "stream",
     "text": [
      " ········\n"
     ]
    }
   ],
   "source": [
    "# Set up the OpenAI API key\n",
    "os.environ[\"OPENAI_API_KEY\"] = getpass.getpass()"
   ]
  },
  {
   "cell_type": "code",
   "execution_count": 22,
   "id": "12aaf10c-49b9-4391-ad71-cd31c1f7b70b",
   "metadata": {},
   "outputs": [],
   "source": [
    "from typing import TypedDict, Annotated, Sequence\n",
    "from langgraph.graph import Graph, StateGraph\n",
    "from langchain_openai import ChatOpenAI\n",
    "from langchain_core.prompts import PromptTemplate\n",
    "from langchain_core.output_parsers import StrOutputParser"
   ]
  },
  {
   "cell_type": "code",
   "execution_count": 23,
   "id": "8ebec14a-d27f-49f2-9f3e-732823a2333f",
   "metadata": {},
   "outputs": [],
   "source": [
    "# Define the state\n",
    "class AgentState(TypedDict):\n",
    "    tweet: str\n",
    "    reflection: str\n",
    "    improved_tweet: str"
   ]
  },
  {
   "cell_type": "code",
   "execution_count": 24,
   "id": "01e71389-5258-40a8-92e1-82b4cd0b0682",
   "metadata": {},
   "outputs": [],
   "source": [
    "# Initialize the LLM\n",
    "llm = ChatOpenAI(model=\"gpt-4o-mini\")"
   ]
  },
  {
   "cell_type": "code",
   "execution_count": 25,
   "id": "a5cc8713-050e-417f-9082-10f260e87bad",
   "metadata": {},
   "outputs": [],
   "source": [
    "# Define the prompt templates\n",
    "reflection_template = PromptTemplate.from_template(\n",
    "    \"\"\"\n",
    "    Analyze the following tweet and provide a reflection on how it can be improved:\n",
    "    Tweet: {tweet}\n",
    "    \n",
    "    Consider aspects such as clarity, engagement, and brevity. Provide specific suggestions.\n",
    "    \"\"\"\n",
    ")"
   ]
  },
  {
   "cell_type": "code",
   "execution_count": 26,
   "id": "8dbf136e-737e-4221-87b5-46e216910242",
   "metadata": {},
   "outputs": [],
   "source": [
    "improve_tweet_template = PromptTemplate.from_template(\n",
    "    \"\"\"\n",
    "    Given the original tweet and the reflection, provide an improved version of the tweet:\n",
    "    \n",
    "    Original tweet: {tweet}\n",
    "    Reflection: {reflection}\n",
    "    \n",
    "    Improved tweet:\n",
    "    \"\"\"\n",
    ")"
   ]
  },
  {
   "cell_type": "code",
   "execution_count": 27,
   "id": "43ab7892-2d19-4fa1-a4b6-76c3fa3fc32a",
   "metadata": {},
   "outputs": [],
   "source": [
    "# Define the nodes\n",
    "def reflect(state: AgentState) -> AgentState:\n",
    "    chain = reflection_template | llm | StrOutputParser()\n",
    "    reflection = chain.invoke({\"tweet\": state['tweet']})\n",
    "    state['reflection'] = reflection\n",
    "    return state"
   ]
  },
  {
   "cell_type": "code",
   "execution_count": 28,
   "id": "c5b6c912-58b0-4ba7-99fe-dec894b37ab4",
   "metadata": {},
   "outputs": [],
   "source": [
    "def improve_tweet(state: AgentState) -> AgentState:\n",
    "    chain = improve_tweet_template | llm | StrOutputParser()\n",
    "    improved_tweet = chain.invoke({\"tweet\": state['tweet'], \"reflection\": state['reflection']})\n",
    "    state['improved_tweet'] = improved_tweet\n",
    "    return state"
   ]
  },
  {
   "cell_type": "code",
   "execution_count": 29,
   "id": "25bd33f7-22bb-4733-acbb-dc14bd6d31dd",
   "metadata": {},
   "outputs": [],
   "source": [
    "# Define the graph\n",
    "workflow = StateGraph(AgentState)"
   ]
  },
  {
   "cell_type": "code",
   "execution_count": 30,
   "id": "15d15ef6-9cf6-4209-bb20-73391d9b95bf",
   "metadata": {},
   "outputs": [],
   "source": [
    "# Add nodes to the graph\n",
    "workflow.add_node(\"reflect\", reflect)\n",
    "workflow.add_node(\"improve_tweet\", improve_tweet)"
   ]
  },
  {
   "cell_type": "code",
   "execution_count": 31,
   "id": "8fd45bd2-5d74-4112-9deb-47f524018e42",
   "metadata": {},
   "outputs": [],
   "source": [
    "# Add edges to the graph\n",
    "workflow.add_edge(\"reflect\", \"improve_tweet\")"
   ]
  },
  {
   "cell_type": "code",
   "execution_count": 32,
   "id": "095d4410-5431-4773-92f2-8eedab1d8d29",
   "metadata": {},
   "outputs": [],
   "source": [
    "# Set the entry point\n",
    "workflow.set_entry_point(\"reflect\")"
   ]
  },
  {
   "cell_type": "code",
   "execution_count": 33,
   "id": "bec815db-ae5b-4e26-8020-a45ab8027b6a",
   "metadata": {},
   "outputs": [],
   "source": [
    "# Compile the graph\n",
    "graph = workflow.compile()"
   ]
  },
  {
   "cell_type": "code",
   "execution_count": 34,
   "id": "b682d66f-255d-4eb3-9e4e-8e846819c3fe",
   "metadata": {},
   "outputs": [],
   "source": [
    "# Function to run the graph\n",
    "def improve_tweet_with_reflection(tweet: str) -> str:\n",
    "    result = graph.invoke({\"tweet\": tweet})\n",
    "    return result['improved_tweet']"
   ]
  },
  {
   "cell_type": "code",
   "execution_count": 35,
   "id": "70fe15b9-a31a-4a25-bd71-9b43efab5056",
   "metadata": {},
   "outputs": [
    {
     "name": "stdout",
     "output_type": "stream",
     "text": [
      "Original tweet: I think AI is cool and will change everything.\n",
      "Improved tweet: \"AI is revolutionizing industries like healthcare and education. Which area do you think will change the most? #AI #FutureTech\"\n"
     ]
    }
   ],
   "source": [
    "# Example usage\n",
    "if __name__ == \"__main__\":\n",
    "    original_tweet = \"I think AI is cool and will change everything.\"\n",
    "    improved_tweet = improve_tweet_with_reflection(original_tweet)\n",
    "    print(f\"Original tweet: {original_tweet}\")\n",
    "    print(f\"Improved tweet: {improved_tweet}\")"
   ]
  },
  {
   "cell_type": "code",
   "execution_count": 36,
   "id": "ef786b5d-3f75-4a31-bdd7-ff4c3acdfaf2",
   "metadata": {},
   "outputs": [
    {
     "data": {
      "image/jpeg": "[encoded data removed]",
      "text/plain": [
       "<IPython.core.display.Image object>"
      ]
     },
     "metadata": {},
     "output_type": "display_data"
    }
   ],
   "source": [
    "from IPython.display import Image, display\n",
    "\n",
    "try:\n",
    "    display(Image(graph.get_graph().draw_mermaid_png()))\n",
    "except Exception:\n",
    "    # This requires some extra dependencies and is optional\n",
    "    pass"
   ]
  },
  {
   "cell_type": "code",
   "execution_count": null,
   "id": "109d9909-24cb-4fbc-8c87-e6a1e0d9a031",
   "metadata": {},
   "outputs": [],
   "source": []
  }
 ],
 "metadata": {
  "kernelspec": {
   "display_name": "Python 3 (ipykernel)",
   "language": "python",
   "name": "python3"
  },
  "language_info": {
   "codemirror_mode": {
    "name": "ipython",
    "version": 3
   },
   "file_extension": ".py",
   "mimetype": "text/x-python",
   "name": "python",
   "nbconvert_exporter": "python",
   "pygments_lexer": "ipython3",
   "version": "3.12.4"
  }
 },
 "nbformat": 4,
 "nbformat_minor": 5
}
