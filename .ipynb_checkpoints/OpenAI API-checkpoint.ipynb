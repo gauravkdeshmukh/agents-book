{
 "cells": [
  {
   "cell_type": "markdown",
   "id": "8b03343d-62d9-414c-8d9e-3a7810472748",
   "metadata": {},
   "source": [
    "# OpenAI API"
   ]
  },
  {
   "cell_type": "code",
   "execution_count": 2,
   "id": "b55945be-3125-4ad9-bf25-da56ca34a806",
   "metadata": {},
   "outputs": [],
   "source": [
    "# pip install openai"
   ]
  },
  {
   "cell_type": "code",
   "execution_count": 7,
   "id": "2bee3725-205f-4505-9482-a1cff3839d0a",
   "metadata": {},
   "outputs": [],
   "source": [
    "import openai\n",
    "import os\n",
    "from getpass import getpass"
   ]
  },
  {
   "cell_type": "code",
   "execution_count": 8,
   "id": "4b4594a9-9757-4707-9ee5-2d6bd9d895d3",
   "metadata": {},
   "outputs": [],
   "source": [
    "def get_api_key():\n",
    "    return getpass(\"Enter your OpenAI API key: \")"
   ]
  },
  {
   "cell_type": "code",
   "execution_count": 9,
   "id": "481287ee-9c17-4983-9b9c-ab61606281ff",
   "metadata": {},
   "outputs": [],
   "source": [
    "def generate_tweet(client, topic):\n",
    "    try:\n",
    "        completion = client.chat.completions.create(\n",
    "            model=\"gpt-4\",\n",
    "            messages=[\n",
    "                {\"role\": \"system\", \"content\": \"You are a social media expert skilled at creating engaging tweets.\"},\n",
    "                {\"role\": \"user\", \"content\": f\"Write a one-sentence tweet about {topic}. Include relevant emojis.\"}\n",
    "            ]\n",
    "        )\n",
    "        return completion.choices[0].message.content\n",
    "    except Exception as e:\n",
    "        return f\"An error occurred: {str(e)}\""
   ]
  },
  {
   "cell_type": "code",
   "execution_count": null,
   "id": "d76e29dd-ed05-4108-af0b-35582ee3660c",
   "metadata": {},
   "outputs": [
    {
     "name": "stdout",
     "output_type": "stream",
     "text": [
      "Welcome to the Tweet Generator!\n"
     ]
    },
    {
     "name": "stdin",
     "output_type": "stream",
     "text": [
      "Enter your OpenAI API key:  ········\n",
      "Enter a topic for your tweet (or 'quit' to exit):  generative ai\n"
     ]
    },
    {
     "name": "stdout",
     "output_type": "stream",
     "text": [
      "\n",
      "Generated Tweet:\n",
      "\"Unlock the future of creativity with Generative AI 🤖💡, creating art, designs and even writing like never before! 🔮💭#ArtificialIntelligence #FutureTech\"\n",
      "\n",
      "--------------------------------------------------\n",
      "\n"
     ]
    },
    {
     "name": "stdin",
     "output_type": "stream",
     "text": [
      "Enter a topic for your tweet (or 'quit' to exit):  ios\n"
     ]
    },
    {
     "name": "stdout",
     "output_type": "stream",
     "text": [
      "\n",
      "Generated Tweet:\n",
      "\"📲 Embrace the future with the simple yet powerful iOS, turning tech dreams into reality one swipe at a time! 💫🚀 #Apple #iOS\"\n",
      "\n",
      "--------------------------------------------------\n",
      "\n"
     ]
    }
   ],
   "source": [
    "def main():\n",
    "    print(\"Welcome to the Tweet Generator!\")\n",
    "    \n",
    "    # Get the API key once at the start\n",
    "    api_key = get_api_key()\n",
    "    client = openai.OpenAI(api_key=api_key)\n",
    "    \n",
    "    while True:\n",
    "        topic = input(\"Enter a topic for your tweet (or 'quit' to exit): \")\n",
    "        if topic.lower() == 'quit':\n",
    "            break\n",
    "        tweet = generate_tweet(client, topic)\n",
    "        print(\"\\nGenerated Tweet:\")\n",
    "        print(tweet)\n",
    "        print(\"\\n\" + \"-\"*50 + \"\\n\")\n",
    "\n",
    "if __name__ == \"__main__\":\n",
    "    main()"
   ]
  },
  {
   "cell_type": "code",
   "execution_count": null,
   "id": "59da35c3-5c60-4c2b-a8ad-adcf54c102e4",
   "metadata": {},
   "outputs": [],
   "source": []
  }
 ],
 "metadata": {
  "kernelspec": {
   "display_name": "Python 3 (ipykernel)",
   "language": "python",
   "name": "python3"
  },
  "language_info": {
   "codemirror_mode": {
    "name": "ipython",
    "version": 3
   },
   "file_extension": ".py",
   "mimetype": "text/x-python",
   "name": "python",
   "nbconvert_exporter": "python",
   "pygments_lexer": "ipython3",
   "version": "3.11.4"
  }
 },
 "nbformat": 4,
 "nbformat_minor": 5
}
