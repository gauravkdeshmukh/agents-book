{
 "cells": [
  {
   "cell_type": "markdown",
   "id": "34d90404-bcec-472b-a4c5-081721714e68",
   "metadata": {},
   "source": [
    "# AutoGen"
   ]
  },
  {
   "cell_type": "code",
   "execution_count": 17,
   "id": "7b13414f-e8c6-4bb7-a380-158907d93dd2",
   "metadata": {},
   "outputs": [],
   "source": [
    "# pip install --upgrade pyautogen"
   ]
  },
  {
   "cell_type": "code",
   "execution_count": 1,
   "id": "76bbb713-ef11-4b8c-9024-2d4f45b74cc9",
   "metadata": {},
   "outputs": [
    {
     "name": "stderr",
     "output_type": "stream",
     "text": [
      "C:\\Users\\ttaul\\AppData\\Local\\Programs\\Python\\Python312\\Lib\\site-packages\\pydantic\\_internal\\_config.py:341: UserWarning: Valid config keys have changed in V2:\n",
      "* 'allow_population_by_field_name' has been renamed to 'populate_by_name'\n",
      "* 'smart_union' has been removed\n",
      "  warnings.warn(message, UserWarning)\n"
     ]
    }
   ],
   "source": [
    "import openai\n",
    "import os\n",
    "import getpass\n",
    "from autogen import ConversableAgent"
   ]
  },
  {
   "cell_type": "code",
   "execution_count": 2,
   "id": "fd9f373f-2d46-43b0-9591-1850c08349cb",
   "metadata": {},
   "outputs": [
    {
     "name": "stdin",
     "output_type": "stream",
     "text": [
      " ········\n"
     ]
    }
   ],
   "source": [
    "# Set up the OpenAI API key\n",
    "os.environ[\"OPENAI_API_KEY\"] = getpass.getpass()"
   ]
  },
  {
   "cell_type": "code",
   "execution_count": 6,
   "id": "1178f3d6-b666-4aaa-a827-6d5659c900f5",
   "metadata": {},
   "outputs": [],
   "source": [
    "llm_config = {\"model\": \"gpt-4o-mini\"}"
   ]
  },
  {
   "cell_type": "code",
   "execution_count": 8,
   "id": "592dee73-aa1b-430a-a956-7069fe93b343",
   "metadata": {},
   "outputs": [],
   "source": [
    "# Define Alice, a friendly AI assistant agent\n",
    "alice = ConversableAgent(\n",
    "    name=\"alice\",\n",
    "    system_message=\"Your name is Alice, and you are a friendly AI assistant ready to help with any questions.\",\n",
    "    llm_config=llm_config,\n",
    "    human_input_mode=\"NEVER\",\n",
    ")"
   ]
  },
  {
   "cell_type": "code",
   "execution_count": 9,
   "id": "2e2216f5-595e-4772-aa59-7064ae685560",
   "metadata": {},
   "outputs": [],
   "source": [
    "# Define Bob, a curious learner agent\n",
    "bob = ConversableAgent(\n",
    "    name=\"bob\",\n",
    "    system_message=\"Your name is Bob, and you are a curious learner who loves asking questions.\",\n",
    "    llm_config=llm_config,\n",
    "    human_input_mode=\"NEVER\",\n",
    ")"
   ]
  },
  {
   "cell_type": "code",
   "execution_count": 10,
   "id": "651bb68c-ce7e-48ae-b243-c399d1491366",
   "metadata": {},
   "outputs": [
    {
     "name": "stdout",
     "output_type": "stream",
     "text": [
      "\u001b[33mbob\u001b[0m (to alice):\n",
      "\n",
      "Hi Alice! Can you tell me how photosynthesis works?\n",
      "\n",
      "--------------------------------------------------------------------------------\n",
      "\u001b[33malice\u001b[0m (to bob):\n",
      "\n",
      "Hi Bob! Of course! Photosynthesis is the process by which green plants, algae, and certain bacteria convert light energy into chemical energy in the form of glucose. Here’s how it works:\n",
      "\n",
      "1. **Light Absorption**: Photosynthesis primarily occurs in the chloroplasts of plant cells, where a green pigment called chlorophyll captures sunlight.\n",
      "\n",
      "2. **Water and Carbon Dioxide**: Plants take in water (H₂O) from the soil through their roots and carbon dioxide (CO₂) from the air through small openings on their leaves called stomata.\n",
      "\n",
      "3. **Chemical Reaction**: Using the energy absorbed from sunlight, the chlorophyll facilitates a chemical reaction that combines the water and carbon dioxide to produce glucose (C₆H₁₂O₆) and oxygen (O₂). The overall equation for photosynthesis can be summarized as:\n",
      "   \\[\n",
      "   6 CO₂ + 6 H₂O + light \\ energy \\rightarrow C₆H₁₂O₆ + 6 O₂\n",
      "   \\]\n",
      "\n",
      "4. **Oxygen Release**: The oxygen generated during this process is released into the atmosphere through the stomata, which is vital for the survival of aerobic organisms, including humans.\n",
      "\n",
      "5. **Energy Storage**: The glucose produced is used by the plant for energy and growth, or it can be stored for later use.\n",
      "\n",
      "In summary, photosynthesis transforms light energy into chemical energy, producing glucose for the plant and releasing oxygen as a byproduct. If you have any more questions about photosynthesis or related topics, feel free to ask!\n",
      "\n",
      "--------------------------------------------------------------------------------\n",
      "\u001b[33mbob\u001b[0m (to alice):\n",
      "\n",
      "Thanks, Alice! That's really clear. I'm curious about how the process of photosynthesis might be affected by changes in the environment, like increased carbon dioxide levels or changes in light availability. How do these factors influence photosynthesis?\n",
      "\n",
      "--------------------------------------------------------------------------------\n",
      "\u001b[33malice\u001b[0m (to bob):\n",
      "\n",
      "Great follow-up question, Bob! Environmental factors can significantly influence the rate of photosynthesis. Here’s how some key factors affect the process:\n",
      "\n",
      "1. **Carbon Dioxide Levels**: \n",
      "   - Increased levels of carbon dioxide (CO₂) generally enhance the rate of photosynthesis, as CO₂ is one of the raw materials needed. Higher CO₂ concentrations can lead to increased glucose production, provided that other conditions (like light and water) are also favorable.\n",
      "   - However, there is a limit to this effect. Beyond a certain concentration, the rate of photosynthesis plateaus when other factors become limiting.\n",
      "\n",
      "2. **Light Availability**:\n",
      "   - Light intensity impacts photosynthesis directly; more light energy increases the rate of the reaction up to a certain point (the light saturation point). \n",
      "   - If light levels are too low, the process slows down significantly, leading to reduced plant growth. Conversely, excessive light can lead to photoinhibition, where too much light energy can damage the chlorophyll and other components of the photosynthetic apparatus.\n",
      "\n",
      "3. **Temperature**:\n",
      "   - Temperature plays a crucial role in the efficiency of photosynthesis. Each plant has an optimal temperature range for photosynthesis. Generally, warmer temperatures (within the plant’s tolerance) can increase enzymatic activity involved in the photosynthetic process.\n",
      "   - However, if temperatures become too high, it can lead to stress on the plant, reducing photosynthesis and potentially causing the stomata to close to conserve water, which limits CO₂ intake.\n",
      "\n",
      "4. **Water Availability**:\n",
      "   - Water is essential for photosynthesis; it is a raw material in the process and also helps in maintaining turgor pressure in plant cells. Insufficient water can cause stomata to close, reducing CO₂ uptake, which limits photosynthesis.\n",
      "   - Conversely, excessive water or flooding can lead to poor oxygen availability in the soil and root degradation, negatively affecting photosynthesis as well.\n",
      "\n",
      "5. **Nutrient Availability**:\n",
      "   - Essential nutrients (like nitrogen, phosphorus, and potassium) promote healthy plant growth and development. A deficiency in these nutrients can lead to stunted growth and a lower capacity for photosynthesis.\n",
      "\n",
      "Overall, photosynthesis is a complex process influenced by multiple factors in the plant's environment. Changes in any of these factors can have a profound effect on plant health, growth, and overall ecosystem productivity. If you have more questions or need further clarification, feel free to ask!\n",
      "\n",
      "--------------------------------------------------------------------------------\n"
     ]
    }
   ],
   "source": [
    "# Start a conversation where Bob asks Alice a question\n",
    "chat_result = bob.initiate_chat(\n",
    "    recipient=alice,\n",
    "    message=\"Hi Alce! Can you tell me how photosynthesis works?\",\n",
    "    max_turns=2,\n",
    ")\n"
   ]
  },
  {
   "cell_type": "markdown",
   "id": "326b8125-b8d2-4878-a9ce-505e4c9785ed",
   "metadata": {},
   "source": [
    "# Tweet Creator"
   ]
  },
  {
   "cell_type": "code",
   "execution_count": 29,
   "id": "8c7c5f4b-6a37-4905-bd68-15856f82a72a",
   "metadata": {},
   "outputs": [],
   "source": [
    "llm_config = {\"model\": \"gpt-4o-mini\"}"
   ]
  },
  {
   "cell_type": "code",
   "execution_count": 33,
   "id": "56f5071f-d645-4022-9a8b-eb9ffe366de1",
   "metadata": {},
   "outputs": [],
   "source": [
    "task = '''\n",
    "        Write an engaging tweet to promote a new AI tool designed for content creators. \n",
    "        The tweet should be concise, include relevant hashtags, and be within the character limit for Twitter.\n",
    "       '''"
   ]
  },
  {
   "cell_type": "code",
   "execution_count": 3,
   "id": "9b8491b1-9e74-43c1-ba03-e5d631d117eb",
   "metadata": {},
   "outputs": [],
   "source": [
    "import autogen"
   ]
  },
  {
   "cell_type": "code",
   "execution_count": 35,
   "id": "d7c0c551-8b6e-473a-bb8c-19e96b3e85fb",
   "metadata": {},
   "outputs": [],
   "source": [
    "# Tweet Writer Agent\n",
    "tweet_writer = autogen.AssistantAgent(\n",
    "    name=\"TweetWriter\",\n",
    "    system_message=\"You are a tweet writer. You write concise and engaging tweets on given topics. \"\n",
    "                   \"Your tweets should be compelling, include relevant hashtags, and be within the character limit.\",\n",
    "    llm_config=llm_config,\n",
    ")"
   ]
  },
  {
   "cell_type": "code",
   "execution_count": 36,
   "id": "0cc8e55c-f03d-4581-b46b-edcefcc68cf1",
   "metadata": {},
   "outputs": [],
   "source": [
    "\n",
    "# Content Optimizer Agent\n",
    "content_optimizer = autogen.AssistantAgent(\n",
    "    name=\"ContentOptimizer\",\n",
    "    system_message=\"You are a content optimizer. You refine the tweet to improve its clarity, engagement, and impact. \"\n",
    "                   \"Your revisions should enhance the message while keeping the tweet concise and within the character limit.\",\n",
    "    llm_config=llm_config,\n",
    ")\n"
   ]
  },
  {
   "cell_type": "code",
   "execution_count": 37,
   "id": "58dc2580-09ae-4184-91c5-84ae24dc9de9",
   "metadata": {},
   "outputs": [],
   "source": [
    "\n",
    "# SEO Reviewer Agent\n",
    "seo_reviewer = autogen.AssistantAgent(\n",
    "    name=\"SEOReviewer\",\n",
    "    llm_config=llm_config,\n",
    "    system_message=\"You are an SEO reviewer. You optimize the tweet for search engines and social media algorithms. \"\n",
    "                   \"Your suggestions should include relevant keywords and hashtags that increase visibility.\",\n",
    ")\n"
   ]
  },
  {
   "cell_type": "code",
   "execution_count": 38,
   "id": "b7fb4709-5a02-4327-b889-129d93cafdec",
   "metadata": {},
   "outputs": [],
   "source": [
    "# Legal Reviewer Agent\n",
    "legal_reviewer = autogen.AssistantAgent(\n",
    "    name=\"LegalReviewer\",\n",
    "    llm_config=llm_config,\n",
    "    system_message=\"You are a legal reviewer. You ensure that the tweet is legally compliant and free from any potential legal issues. \"\n",
    "                   \"Your review should be concise, ensuring that the content adheres to legal standards.\",\n",
    ")"
   ]
  },
  {
   "cell_type": "code",
   "execution_count": 39,
   "id": "eea2d0a9-00a1-4089-bbb0-f73b398a3cd3",
   "metadata": {},
   "outputs": [],
   "source": [
    "# Final Reviewer Agent (finalizes the tweet)\n",
    "final_reviewer = autogen.AssistantAgent(\n",
    "    name=\"FinalReviewer\",\n",
    "    llm_config=llm_config,\n",
    "    system_message=\"You are the final reviewer. You aggregate all feedback and finalize the tweet, ensuring it is optimized, legally compliant, and engaging.\",\n",
    ")"
   ]
  },
  {
   "cell_type": "code",
   "execution_count": 40,
   "id": "28076269-b8f0-4145-950a-3242ab9fe046",
   "metadata": {},
   "outputs": [],
   "source": [
    "# Function to generate reflection messages\n",
    "def reflection_message(recipient, messages, sender, config):\n",
    "    return f'''Review the following content. \n",
    "            \\n\\n {recipient.chat_messages_for_summary(sender)[-1]['content']}'''"
   ]
  },
  {
   "cell_type": "code",
   "execution_count": 41,
   "id": "e2374217-3f21-4c18-ad58-e27d3aee7535",
   "metadata": {},
   "outputs": [],
   "source": [
    "\n",
    "# Set up the nested review process\n",
    "review_chats = [\n",
    "    {\n",
    "        \"recipient\": content_optimizer,\n",
    "        \"message\": reflection_message,\n",
    "        \"summary_method\": \"reflection_with_llm\",\n",
    "        \"summary_args\": {\"summary_prompt\": \n",
    "            \"Return review as a JSON object only:\"\n",
    "            \"{'Reviewer': '', 'Review': ''}. Here Reviewer should be your role\",},\n",
    "        \"max_turns\": 1\n",
    "    },\n",
    "    {\n",
    "        \"recipient\": seo_reviewer,\n",
    "        \"message\": reflection_message,\n",
    "        \"summary_method\": \"reflection_with_llm\",\n",
    "        \"summary_args\": {\"summary_prompt\": \n",
    "            \"Return review as a JSON object only:\"\n",
    "            \"{'Reviewer': '', 'Review': ''}.\",},\n",
    "        \"max_turns\": 1\n",
    "    },\n",
    "    {\n",
    "        \"recipient\": legal_reviewer,\n",
    "        \"message\": reflection_message,\n",
    "        \"summary_method\": \"reflection_with_llm\",\n",
    "        \"summary_args\": {\"summary_prompt\": \n",
    "            \"Return review as a JSON object only:\"\n",
    "            \"{'Reviewer': '', 'Review': ''}\",},\n",
    "        \"max_turns\": 1\n",
    "    },\n",
    "    {\n",
    "        \"recipient\": final_reviewer,\n",
    "        \"message\": \"Aggregate feedback from all reviewers and finalize the tweet.\",\n",
    "        \"max_turns\": 1\n",
    "    },\n",
    "]\n"
   ]
  },
  {
   "cell_type": "code",
   "execution_count": 42,
   "id": "ec18e667-4917-4c9f-9695-32c8b685b6ae",
   "metadata": {},
   "outputs": [],
   "source": [
    "# Register the nested chats\n",
    "tweet_writer.register_nested_chats(\n",
    "    review_chats,\n",
    "    trigger=tweet_writer,\n",
    ")"
   ]
  },
  {
   "cell_type": "code",
   "execution_count": 43,
   "id": "5aa62ce6-b7c9-427e-804f-3e571eb663f8",
   "metadata": {},
   "outputs": [
    {
     "name": "stdout",
     "output_type": "stream",
     "text": [
      "\u001b[33mFinalReviewer\u001b[0m (to TweetWriter):\n",
      "\n",
      "\n",
      "        Write an engaging tweet to promote a new AI tool designed for content creators. \n",
      "        The tweet should be concise, include relevant hashtags, and be within the character limit for Twitter.\n",
      "       \n",
      "\n",
      "--------------------------------------------------------------------------------\n",
      "\u001b[33mTweetWriter\u001b[0m (to FinalReviewer):\n",
      "\n",
      "🚀 Unlock your creative potential with our new AI tool! 🎨✨ Streamline your content creation process and let your ideas shine. Say goodbye to writer’s block! 💡🔗 #ContentCreators #AI #CreativeTools #Innovation #WritersBlockBeGone\n",
      "\n",
      "--------------------------------------------------------------------------------\n",
      "\u001b[33mFinalReviewer\u001b[0m (to TweetWriter):\n",
      "\n",
      "🚀 Unleash your creativity with our new AI tool designed just for content creators! 🎨✨ Say goodbye to writer’s block and elevate your workflow today! 💡🔗 #ContentCreators #AI #CreativeTools #Innovation #WritersBlockBeGone\n",
      "\n",
      "--------------------------------------------------------------------------------\n",
      "\u001b[33mTweetWriter\u001b[0m (to FinalReviewer):\n",
      "\n",
      "🚀 Unleash your creativity with our new AI tool for content creators! 🎨✨ Say goodbye to writer’s block and elevate your workflow today! 💡🔗 #ContentCreators #AI #CreativeTools #Innovation #WritersBlockBeGone\n",
      "\n",
      "--------------------------------------------------------------------------------\n",
      "🚀 Unleash your creativity with our new AI tool for content creators! 🎨✨ Say goodbye to writer’s block and elevate your workflow today! 💡🔗 #ContentCreators #AI #CreativeTools #Innovation #WritersBlockBeGone\n"
     ]
    }
   ],
   "source": [
    "\n",
    "# Initiate the chat and get the final tweet\n",
    "res = tweet_writer.generate_reply(messages=[{\"content\": task, \"role\": \"user\"}])\n",
    "res = final_reviewer.initiate_chat(\n",
    "    recipient=tweet_writer,\n",
    "    message=task,\n",
    "    max_turns=2,\n",
    "    summary_method=\"last_msg\"\n",
    ")\n",
    "\n",
    "print(res.summary)\n",
    "\n"
   ]
  },
  {
   "cell_type": "markdown",
   "id": "3b1ccea5-246a-415a-82f3-4d360ca7d403",
   "metadata": {},
   "source": [
    "# HR"
   ]
  },
  {
   "cell_type": "code",
   "execution_count": 10,
   "id": "67efdb93-acfc-40bd-85de-9109dbde20ef",
   "metadata": {},
   "outputs": [],
   "source": [
    "from typing import Annotated\n",
    "llm_config = {\"model\": \"gpt-4o-mini\"}"
   ]
  },
  {
   "cell_type": "code",
   "execution_count": 11,
   "id": "18a68e66-3d92-48e4-8c18-48dc42f1b557",
   "metadata": {},
   "outputs": [],
   "source": [
    "# Example leave request to be processed\n",
    "leave_request_text = \"\"\"\n",
    "Employee: John Doe\n",
    "Department: IT\n",
    "Leave Type: Annual Leave\n",
    "Leave Dates: 10/01/2024 - 10/05/2024\n",
    "Total Days: 5\n",
    "Reason: Vacation\n",
    "Remaining Leave Balance: 10 days\n",
    "Status: Pending Approval\n",
    "\"\"\"\n"
   ]
  },
  {
   "cell_type": "code",
   "execution_count": null,
   "id": "01279af8-1109-4958-ab66-75d611d605a5",
   "metadata": {},
   "outputs": [],
   "source": [
    "def summarize_leave_request() -> Annotated[str, \"Summary of the leave request\"]:\n",
    "    \"\"\"Summarizes the provided leave request.\"\"\"\n",
    "    return (\"Summary: Employee John Doe from the IT department has requested 5 days \"\n",
    "            \"of annual leave from 10/01/2024 to 10/05/2024 for vacation. \"\n",
    "            \"Remaining leave balance is 10 days. Status is Pending Approval.\")\n",
    "\n",
    "def approve_or_reject_leave(summary: Annotated[str, \"Summary of the leave request\"]) -> Annotated[str, \"Approval or Rejection decision\"]:\n",
    "    \"\"\"Approves or rejects the leave request based on the summary.\"\"\"\n",
    "    if \"Remaining leave balance is 10 days\" in summary and \"5 days\" in summary:\n",
    "        return \"Approved: The leave request is approved as it meets the company policy.\"\n",
    "    else:\n",
    "        return \"Rejected: The leave request is rejected due to insufficient leave balance.\""
   ]
  },
  {
   "cell_type": "code",
   "execution_count": 12,
   "id": "6d474fb3-f796-4f4a-9eb3-774faa6ddd44",
   "metadata": {},
   "outputs": [],
   "source": [
    "# Leave Request Reviewer Agent\n",
    "leave_request_reviewer = ConversableAgent(\n",
    "    name=\"Leave Request Reviewer\",\n",
    "    system_message=\"You are responsible for reviewing the leave request. \"\n",
    "    \"First, call summarize_leave_request() to get a summary of the leave request. \"\n",
    "    \"Then, pass the summary to the Leave Approver for a decision.\",\n",
    "    llm_config=llm_config,\n",
    ")\n",
    "\n",
    "# Leave Approver Agent\n",
    "leave_approver = ConversableAgent(\n",
    "    name=\"Leave Approver\",\n",
    "    system_message=\"You are responsible for approving or rejecting the leave request. \"\n",
    "    \"Wait for the summary from the Leave Request Reviewer and make a decision by calling approve_or_reject_leave(summary).\",\n",
    "    llm_config=llm_config,\n",
    ")\n"
   ]
  },
  {
   "cell_type": "code",
   "execution_count": 13,
   "id": "113f4348-113e-4aa9-a217-3d416962571f",
   "metadata": {},
   "outputs": [],
   "source": [
    "# Registering tools with the agents\n",
    "from autogen import register_function\n",
    "\n",
    "# Register summarize_leave_request tool\n",
    "register_function(\n",
    "    summarize_leave_request,\n",
    "    caller=leave_request_reviewer,\n",
    "    executor=leave_request_reviewer,  # Set executor\n",
    "    name=\"summarize_leave_request\",\n",
    "    description=\"Summarizes the leave request.\",\n",
    ")\n",
    "\n",
    "# Register approve_or_reject_leave tool\n",
    "register_function(\n",
    "    approve_or_reject_leave,\n",
    "    caller=leave_approver,\n",
    "    executor=leave_approver,  # Set executor\n",
    "    name=\"approve_or_reject_leave\",\n",
    "    description=\"Makes a decision to approve or reject the leave request based on the summary.\",\n",
    ")"
   ]
  },
  {
   "cell_type": "code",
   "execution_count": 14,
   "id": "b7c77c20-b915-45f5-963a-c4c45edb7e72",
   "metadata": {},
   "outputs": [
    {
     "name": "stdout",
     "output_type": "stream",
     "text": [
      "Summary: Summary: Employee John Doe from the IT department has requested 5 days of annual leave from 10/01/2024 to 10/05/2024 for vacation. Remaining leave balance is 10 days. Status is Pending Approval.\n",
      "Decision: Approved: The leave request is approved as it meets the company policy.\n"
     ]
    }
   ],
   "source": [
    "# Manually call the functions to simulate the process\n",
    "summary_result = summarize_leave_request()\n",
    "decision_result = approve_or_reject_leave(summary_result)\n",
    "\n",
    "# Output the results\n",
    "print(f\"Summary: {summary_result}\")\n",
    "print(f\"Decision: {decision_result}\")"
   ]
  },
  {
   "cell_type": "code",
   "execution_count": null,
   "id": "a2e26faa-ef1a-4a51-bb19-201e406c5b78",
   "metadata": {},
   "outputs": [],
   "source": []
  }
 ],
 "metadata": {
  "kernelspec": {
   "display_name": "Python 3 (ipykernel)",
   "language": "python",
   "name": "python3"
  },
  "language_info": {
   "codemirror_mode": {
    "name": "ipython",
    "version": 3
   },
   "file_extension": ".py",
   "mimetype": "text/x-python",
   "name": "python",
   "nbconvert_exporter": "python",
   "pygments_lexer": "ipython3",
   "version": "3.12.4"
  }
 },
 "nbformat": 4,
 "nbformat_minor": 5
}
