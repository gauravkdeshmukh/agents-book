{
 "cells": [
  {
   "cell_type": "markdown",
   "id": "43c74887-0da1-4b29-b112-96fcf491a035",
   "metadata": {},
   "source": [
    "# LangChain Program -- Language Translation"
   ]
  },
  {
   "cell_type": "code",
   "execution_count": 2,
   "id": "6bb8aedb-3b6b-41ea-a694-3dec00c6ada8",
   "metadata": {},
   "outputs": [],
   "source": [
    "# pip install langchain"
   ]
  },
  {
   "cell_type": "code",
   "execution_count": 3,
   "id": "f6ce350d-7e67-4f26-95a2-0d91f31ade9e",
   "metadata": {},
   "outputs": [],
   "source": [
    "# pip install -qU langchain-openai"
   ]
  },
  {
   "cell_type": "code",
   "execution_count": 4,
   "id": "05fcd772-dfaf-4a9b-a8af-596f59a1a0e7",
   "metadata": {},
   "outputs": [],
   "source": [
    "import getpass\n",
    "import os"
   ]
  },
  {
   "cell_type": "code",
   "execution_count": 5,
   "id": "9a3cdf2e-4d6b-4a7b-b1d9-e01b493ac015",
   "metadata": {},
   "outputs": [
    {
     "name": "stdin",
     "output_type": "stream",
     "text": [
      " ········\n"
     ]
    }
   ],
   "source": [
    "os.environ[\"OPENAI_API_KEY\"] = getpass.getpass()"
   ]
  },
  {
   "cell_type": "code",
   "execution_count": 14,
   "id": "4f6f38b8-5604-430e-917d-a4a87637ddcf",
   "metadata": {},
   "outputs": [],
   "source": [
    "from langchain_openai import ChatOpenAI\n",
    "from langchain_core.prompts import ChatPromptTemplate\n",
    "from langchain_core.output_parsers import StrOutputParser"
   ]
  },
  {
   "cell_type": "code",
   "execution_count": null,
   "id": "a07f8722-473f-4213-a403-86a620a67a5c",
   "metadata": {},
   "outputs": [
    {
     "name": "stdout",
     "output_type": "stream",
     "text": [
      "Welcome to the Q&A system! You can ask any question, and I'll try to answer.\n",
      "Type 'quit' to exit the program.\n",
      "\n"
     ]
    },
    {
     "name": "stdin",
     "output_type": "stream",
     "text": [
      "Enter your question (or 'quit' to exit):  What is generative ai?\n"
     ]
    },
    {
     "name": "stdout",
     "output_type": "stream",
     "text": [
      "\n",
      "Question: What is generative ai?\n",
      "Answer: Generative AI is a type of artificial intelligence that has the ability to create or generate new content, such as images, text, or music, based on patterns and examples from existing data. This technology uses complex algorithms and machine learning techniques to produce original and creative outputs that are often indistinguishable from human-created content. Generative AI has applications in various fields, including art, design, and content creation.\n",
      "\n"
     ]
    }
   ],
   "source": [
    "# Create a ChatOpenAI model instance\n",
    "model = ChatOpenAI(model=\"gpt-3.5-turbo\")  # Using a smaller model for cost efficiency\n",
    "\n",
    "# Create a simple prompt template\n",
    "prompt = ChatPromptTemplate.from_template(\"Answer the following question: {question}\")\n",
    "\n",
    "# Create a string output parser\n",
    "output_parser = StrOutputParser()\n",
    "\n",
    "# Create the chain using LCEL\n",
    "chain = prompt | model | output_parser\n",
    "\n",
    "# Function to get user input and process it\n",
    "def ask_question():\n",
    "    question = input(\"Enter your question (or 'quit' to exit): \")\n",
    "    if question.lower() == 'quit':\n",
    "        return False\n",
    "    response = chain.invoke({\"question\": question})\n",
    "    print(f\"\\nQuestion: {question}\")\n",
    "    print(f\"Answer: {response}\\n\")\n",
    "    return True\n",
    "\n",
    "# Main loop\n",
    "print(\"Welcome to the Q&A system! You can ask any question, and I'll try to answer.\")\n",
    "print(\"Type 'quit' to exit the program.\\n\")\n",
    "\n",
    "while ask_question():\n",
    "    pass\n",
    "\n",
    "print(\"Thank you for using the Q&A system. Goodbye!\")"
   ]
  },
  {
   "cell_type": "code",
   "execution_count": null,
   "id": "a80aa3aa-db3d-4416-bf50-09fea65d7fbb",
   "metadata": {},
   "outputs": [],
   "source": []
  }
 ],
 "metadata": {
  "kernelspec": {
   "display_name": "Python 3 (ipykernel)",
   "language": "python",
   "name": "python3"
  },
  "language_info": {
   "codemirror_mode": {
    "name": "ipython",
    "version": 3
   },
   "file_extension": ".py",
   "mimetype": "text/x-python",
   "name": "python",
   "nbconvert_exporter": "python",
   "pygments_lexer": "ipython3",
   "version": "3.11.4"
  }
 },
 "nbformat": 4,
 "nbformat_minor": 5
}
